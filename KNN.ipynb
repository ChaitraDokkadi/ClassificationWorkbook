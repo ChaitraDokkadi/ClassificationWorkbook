{
 "cells": [
  {
   "cell_type": "code",
   "execution_count": 26,
   "metadata": {
    "scrolled": true
   },
   "outputs": [
    {
     "name": "stdout",
     "output_type": "stream",
     "text": [
      "input K:10\n",
      "Average accuracy  : 65.14801110083258\n",
      "Average precision : 48.694805194805184\n",
      "Average recall    : 23.397337311810993\n",
      "Average f_measure : 30.7738994139294\n"
     ]
    }
   ],
   "source": [
    "import random\n",
    "import math \n",
    "import sys\n",
    "import os\n",
    "import numpy as np\n",
    "\n",
    "def is_Num(data):\n",
    "    try:\n",
    "        float(data)\n",
    "        return True\n",
    "    except:\n",
    "        return False\n",
    "# def normalize_data(data):\n",
    "#     for i in range(len(data[0])-1):\n",
    "#         if (is_Num(data[0][i])):\n",
    "#             X=data[:, i].astype(float)\n",
    "#             data[:, i] = (X - X.min()) / (X.max() - X.min())\n",
    "#     return data\n",
    "def eucledian_distance(train,test):\n",
    "    dist = 0\n",
    "    for i in range(len(test)):\n",
    "        if (is_Num(train[i])):\n",
    "            dist += ((train[i].astype(float) - test[i].astype(float)) ** 2)\n",
    "        else:\n",
    "            dist += 1.0 if test[i] != train[i] else 0.0\n",
    "    return math.sqrt(dist)\n",
    "def knn(train_data,test_data):\n",
    "    result=[]\n",
    "    for i in range(len(test_data)):\n",
    "        distance_list = []\n",
    "        for train_ind in range(len(train_data)):\n",
    "            dist=eucledian_distance(train_data[train_ind][0:-1],test_data[i][0:-1])\n",
    "            distance_list.append(dist)\n",
    "        nearest_points = np.argsort(np.asarray(distance_list))[:k]\n",
    "        class_one=0\n",
    "        for point in nearest_points:\n",
    "            if train_data[point][-1]=='1':\n",
    "                class_one+=1\n",
    "        if(class_one>(len(nearest_points)-class_one)):\n",
    "            result.append(1)\n",
    "        else:\n",
    "            result.append(0)\n",
    "    return result\n",
    "# file_name =input(\"Filename:\")\n",
    "k=int(input(\"input K:\"))\n",
    "file_name=\"project3_dataset2.txt\"\n",
    "# k=9\n",
    "data = np.loadtxt(file_name, delimiter=\"\\t\",dtype='str')\n",
    "data =np.asarray(data)\n",
    "ground_truth = data[:, -1]\n",
    "K_Fold=10\n",
    "ten_fold_cross_valid = np.array_split(data, K_Fold)\n",
    "accuracy =[]\n",
    "precision = []\n",
    "recall = []\n",
    "f_measure = []\n",
    "for index in range(len(ten_fold_cross_valid)):\n",
    "    test_data=ten_fold_cross_valid[index]\n",
    "    train_data=np.array(np.vstack([x for i,x in enumerate(ten_fold_cross_valid) if i != index]))\n",
    "#     train_data=normalize_data(train_data)\n",
    "    result=knn(train_data,test_data)\n",
    "    TP = FN = FP = TN = 0\n",
    "    for i in range(len(test_data[:,-1])):\n",
    "        if test_data[:,-1][i] == '1':\n",
    "            if result[i] == 1:\n",
    "                TP += 1\n",
    "            else:\n",
    "                FN +=1\n",
    "        else:\n",
    "            if result[i] == 1:\n",
    "                FP += 1\n",
    "            else:\n",
    "                TN +=1\n",
    "    if TP + FN + FP + TN !=0:\n",
    "        accuracy.append(float(TP + TN)/(TP + FN + FP + TN))\n",
    "    if TP + FP !=0:\n",
    "        precision.append(float(TP)/(TP + FP))\n",
    "    if TP + FN !=0:\n",
    "        recall.append(float(TP)/(TP + FN))\n",
    "    if TP + FN + FP !=0:\n",
    "        f_measure.append(float(2 * TP) / ((2 * TP) + FN + FP))\n",
    "print(\"Average accuracy  : \"+  str(sum(accuracy)*100/len(accuracy)))\n",
    "print(\"Average precision : \"+  str(sum(precision)*100/len(precision)))\n",
    "print(\"Average recall    : \"+  str(sum(recall)*100/len(recall)))\n",
    "print(\"Average f_measure : \"+  str(sum(f_measure)*100/len(f_measure)))"
   ]
  },
  {
   "cell_type": "code",
   "execution_count": null,
   "metadata": {},
   "outputs": [],
   "source": []
  }
 ],
 "metadata": {
  "kernelspec": {
   "display_name": "Python 3",
   "language": "python",
   "name": "python3"
  },
  "language_info": {
   "codemirror_mode": {
    "name": "ipython",
    "version": 3
   },
   "file_extension": ".py",
   "mimetype": "text/x-python",
   "name": "python",
   "nbconvert_exporter": "python",
   "pygments_lexer": "ipython3",
   "version": "3.7.1"
  }
 },
 "nbformat": 4,
 "nbformat_minor": 2
}
